{
 "cells": [
  {
   "cell_type": "markdown",
   "metadata": {},
   "source": [
    "# Dog breed prediction for Google Cloud ML"
   ]
  },
  {
   "cell_type": "code",
   "execution_count": null,
   "metadata": {},
   "outputs": [],
   "source": [
    "# !pip install cloudmlmagic   # Python 2 only\n",
    "# !pip install --upgrade google-cloud-vision   # Face detector"
   ]
  },
  {
   "cell_type": "code",
   "execution_count": 1,
   "metadata": {},
   "outputs": [],
   "source": [
    "%load_ext cloudmlmagic2  # My own version"
   ]
  },
  {
   "cell_type": "code",
   "execution_count": 2,
   "metadata": {},
   "outputs": [
    {
     "data": {
      "text/plain": [
       "{'install_requires': ['keras', 'h5py', 'Pillow']}"
      ]
     },
     "execution_count": 2,
     "metadata": {},
     "output_type": "execute_result"
    }
   ],
   "source": [
    "%ml_init -projectId udacity-190420 -bucket udacity-190420/dog-breed -requires keras -scaleTier BASIC -region europe-west1 -runtimeVersion 1.2"
   ]
  },
  {
   "cell_type": "code",
   "execution_count": null,
   "metadata": {},
   "outputs": [],
   "source": [
    "%%ml_code\n",
    "\n",
    "from keras.applications.inception_v3 import InceptionV3 as keras_model\n",
    "\n",
    "selected_model= keras_model(weights='imagenet', include_top=False)"
   ]
  },
  {
   "cell_type": "code",
   "execution_count": null,
   "metadata": {},
   "outputs": [],
   "source": [
    "from keras.models import load_model\n",
    "my_model = load_model('../saved_models/weights.best.{}.hdf5'.format(NETWORK))"
   ]
  },
  {
   "cell_type": "code",
   "execution_count": 238,
   "metadata": {},
   "outputs": [],
   "source": [
    "#%%ml_code\n",
    "NETWORK= 'InceptionV3'\n",
    "\n",
    "from keras.applications.inception_v3 import InceptionV3 as keras_model\n",
    "\n",
    "from keras.models import load_model\n",
    "from keras import backend as K\n",
    "import tensorflow as tf\n",
    "\n",
    "def model2pb(model, file_name):\n",
    "    num_output= 1\n",
    "    output_node_prefix= 'output_node'\n",
    "    K.set_learning_phase(0)\n",
    "    pred = [None]*num_output\n",
    "    pred_node_names = [None]*num_output\n",
    "    for i in range(num_output):\n",
    "        pred_node_names[i] = output_node_prefix+str(i)\n",
    "        pred[i] = tf.identity(model.outputs[i], name=pred_node_names[i])\n",
    "    print('output nodes names are: ', pred_node_names)\n",
    "    sess = K.get_session()\n",
    "    K.get_session().graph\n",
    "    \n",
    "    from tensorflow.python.framework import graph_util\n",
    "    from tensorflow.python.framework import graph_io\n",
    "    constant_graph = graph_util.convert_variables_to_constants(sess, sess.graph.as_graph_def(), pred_node_names)\n",
    "    graph_io.write_graph(constant_graph, '.', file_name, as_text=False)\n",
    "\n",
    "selected_model= keras_model(weights='imagenet', include_top=False)\n",
    "my_model = load_model('../saved_models/weights.best.{}.hdf5'.format(NETWORK))\n",
    "# Concatenate both models\n",
    "merged_model = Model(inputs= [selected_model.input], outputs= [my_model(selected_model.output)])\n",
    "#merged_model.save('final_model.h5')\n",
    "#merged_model= load_model('final_model.h5')\n",
    "#model2pb(merged_model, 'final_model.pb')"
   ]
  },
  {
   "cell_type": "markdown",
   "metadata": {},
   "source": [
    "Test"
   ]
  },
  {
   "cell_type": "code",
   "execution_count": 239,
   "metadata": {},
   "outputs": [],
   "source": [
    "import numpy as np\n",
    "from keras.applications.inception_v3 import preprocess_input as keras_model_preprocess_input\n",
    "from keras.preprocessing import image \n",
    "\n",
    "def path_to_tensor(img_path):\n",
    "    img = image.load_img(img_path, target_size=(224, 224))\n",
    "    x = image.img_to_array(img)\n",
    "    return np.expand_dims(x, axis=0)\n",
    "\n",
    "def predict(img_path):\n",
    "    prediction= merged_model.predict(keras_model_preprocess_input(path_to_tensor(img_path)))\n",
    "    max= np.argmax(prediction)\n",
    "    return prediction[0, max]* 100"
   ]
  },
  {
   "cell_type": "code",
   "execution_count": 240,
   "metadata": {
    "scrolled": false
   },
   "outputs": [
    {
     "name": "stdout",
     "output_type": "stream",
     "text": [
      "          ../test/amparito.jpg : 99.94\n",
      "         ../test/angelina.jpeg : 33.12\n",
      "             ../test/aznar.jpg : 44.22\n",
      "            ../test/begle.jpeg : 100.00\n",
      "              ../test/cat.jpeg : 61.08\n",
      "        ../test/chihuahua.jpeg : 100.00\n",
      "         ../test/doberman.jpeg : 100.00\n",
      "             ../test/dog1.jpeg : 93.66\n",
      "             ../test/dog2.jpeg : 54.97\n",
      "              ../test/duki.jpg : 99.99\n",
      "      ../test/jack_sparrow.jpg : 69.99\n",
      "             ../test/male1.jpg : 41.44\n",
      "     ../test/maxresdefault.jpg : 62.94\n",
      "              ../test/rosa.jpg : 40.99\n",
      "             ../test/trump.jpg : 60.19\n"
     ]
    }
   ],
   "source": [
    "from glob import glob\n",
    "\n",
    "files= sorted(glob(\"../test/*\"))\n",
    "for img_path in files:\n",
    "    acc= predict(img_path)\n",
    "    print('%30s : %.2f' % (img_path, acc))"
   ]
  },
  {
   "cell_type": "code",
   "execution_count": null,
   "metadata": {},
   "outputs": [],
   "source": []
  }
 ],
 "metadata": {
  "kernelspec": {
   "display_name": "Python 2",
   "language": "python",
   "name": "python2"
  },
  "language_info": {
   "codemirror_mode": {
    "name": "ipython",
    "version": 2
   },
   "file_extension": ".py",
   "mimetype": "text/x-python",
   "name": "python",
   "nbconvert_exporter": "python",
   "pygments_lexer": "ipython2",
   "version": "2.7.14"
  }
 },
 "nbformat": 4,
 "nbformat_minor": 2
}
